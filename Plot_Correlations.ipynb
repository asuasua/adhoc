{
 "cells": [
  {
   "cell_type": "code",
   "execution_count": 12,
   "id": "b57e4010-b998-47c5-b929-473d2662518c",
   "metadata": {},
   "outputs": [],
   "source": [
    "import pandas as pd\n",
    "import numpy as np\n",
    "import matplotlib.pyplot as plt"
   ]
  },
  {
   "cell_type": "markdown",
   "id": "2168b971-07ab-4e26-8ab5-5ab6833dac22",
   "metadata": {},
   "source": [
    "$\\text{Question: How does the correlation vary if i take samples of conditional normal distributitons centered on the line}$\n",
    "$$y=\\frac{1}{2}x + 5 $$\n",
    "$$\n",
    "$$"
   ]
  },
  {
   "cell_type": "markdown",
   "id": "006b5e60-f99f-4fa9-ba49-e96fe9d5fc76",
   "metadata": {},
   "source": [
    "as the conditional variance increases the correlation approaches 0"
   ]
  },
  {
   "cell_type": "code",
   "execution_count": 88,
   "id": "4d619f48-9bf0-4d3a-a881-137ea9f3a412",
   "metadata": {},
   "outputs": [],
   "source": [
    "# Create a discrete \"motion picture\" that runs post_line() for a sequence of variances.\n",
    "# One frame per variance value, saved as a GIF.\n",
    "#\n",
    "# - Uses matplotlib only (no seaborn), a single figure animated over frames.\n",
    "# - Does not set explicit colors.\n",
    "# - Produces /mnt/data/post_line_sequence.gif and displays the path.\n",
    "\n",
    "import numpy as np\n",
    "import matplotlib.pyplot as plt\n",
    "from matplotlib.animation import FuncAnimation, PillowWriter\n",
    "\n",
    "# ----------------------- Parameters -----------------------\n",
    "VARIANCES = [1/5, 1/3, 0.5, 1, 2, 3, 5, 8, 13, 55]\n",
    "N_SAMPLES = 200\n",
    "X_VALUES = np.arange(-8, 10, 2)   # columns where we draw conditional clouds\n",
    "JITTER_SD = 0.05                  # small horizontal jitter for visibility\n",
    "FPS = 0.5                         # frames per second (slow enough to see each step)\n",
    "OUTPUT_PATH = \"post_line_sequence.gif\"\n",
    "# ----------------------------------------------------------\n",
    "\n",
    "# Deterministic line: y = 0.5x + 5\n",
    "x_line = np.linspace(-10, 10, 200)\n",
    "\n",
    "def feed_line(dic):\n",
    "\n",
    "    if dic['func'] == 'sin':\n",
    "        y_line = np.sin(x_line)\n",
    "        means_per_point = np.sin(np.repeat(X_VALUES, N_SAMPLES))\n",
    "        label = r\"$y=\\sin{x}$\"\n",
    "    elif dic['func']=='lin':\n",
    "        y_line = 0.5 * x_line + 5\n",
    "        means_per_point = 0.5 * np.repeat(X_VALUES, N_SAMPLES) + 5\n",
    "        label = r\"$y=\\frac{1}{2}x + 5$\"\n",
    "    \n",
    "    # Precompute static x points (with jitter) and their conditional means\n",
    "    rng = np.random.default_rng(123)\n",
    "    x_points = np.repeat(X_VALUES, N_SAMPLES).astype(float)\n",
    "    x_points = x_points + rng.normal(0, JITTER_SD, size=x_points.shape[0])\n",
    "    \n",
    "    # Helper for correlation\n",
    "    def corrcoef_xy(x, y):\n",
    "        if x.size < 2:\n",
    "            return np.nan\n",
    "        return float(np.corrcoef(x, y)[0, 1])\n",
    "    \n",
    "    # Set up the figure and the static line\n",
    "    fig, ax = plt.subplots(figsize=(8, 6))\n",
    "    (line_handle,) = ax.plot(x_line, y_line, label=label)\n",
    "    \n",
    "    # Initial scatter (will be updated each frame using the current variance)\n",
    "    initial_sigma = VARIANCES[0]\n",
    "    y_points = rng.normal(loc=means_per_point, scale=initial_sigma, size=means_per_point.shape[0])\n",
    "    sc = ax.scatter(x_points, y_points, s=12, alpha=0.4, edgecolors=\"none\")\n",
    "    \n",
    "    ax.set_xlabel(\"x\")\n",
    "    ax.set_ylabel(\"y\")\n",
    "    ax.grid(True)\n",
    "    ax.set_xlim(-10, 10)\n",
    "    ax.set_ylim(min(y_line.min(), 0.5 * X_VALUES.min() + 5) - 4, max(y_line.max(), 0.5 * X_VALUES.max() + 5) + 4)\n",
    "    ax.set_title(f\"post_line: variance={initial_sigma}, samples={N_SAMPLES}\\nCorrelation: {corrcoef_xy(x_points, y_points):.3f}\")\n",
    "    \n",
    "    # Update function: one frame per variance value\n",
    "    def update(frame_idx):\n",
    "        sigma = VARIANCES[frame_idx]\n",
    "        y_new = rng.normal(loc=means_per_point, scale=sigma, size=means_per_point.shape[0])\n",
    "        sc.set_offsets(np.column_stack([x_points, y_new]))\n",
    "        ax.set_title(f\"post_line: variance={sigma}, samples={N_SAMPLES}\\nCorrelation: {corrcoef_xy(x_points, y_new):.3f}\")\n",
    "        return (sc,)\n",
    "    ax.legend(loc=\"upper left\")\n",
    "    fig.canvas.draw()   \n",
    "    ani = FuncAnimation(fig, update, frames=len(VARIANCES), interval=int(1000 / FPS), blit=False)\n",
    "    \n",
    "    # Save out as GIF\n",
    "    writer = PillowWriter(fps=FPS)\n",
    "    ani.save(OUTPUT_PATH, writer=writer)\n",
    "    \n",
    "    plt.close(fig)\n",
    "    \n",
    "    OUTPUT_PATH\n",
    "\n",
    "\n",
    "feed_line({'func': 'lin'})"
   ]
  },
  {
   "cell_type": "code",
   "execution_count": null,
   "id": "b171f139-4d48-45b0-8214-4dbdae00723f",
   "metadata": {},
   "outputs": [],
   "source": []
  },
  {
   "cell_type": "code",
   "execution_count": 87,
   "id": "703efae2-6a69-41e1-ba9b-dcbfa5c1df76",
   "metadata": {
    "scrolled": true
   },
   "outputs": [],
   "source": [
    "# def post_line(variance, N_samples):\n",
    "#     # --- Script A (original line) ---\n",
    "#     x = np.linspace(-10, 10, 200)\n",
    "#     # y = 0.5 * x + 5\n",
    "#     y = np.exp(np.imag(x))\n",
    "    \n",
    "#     plt.figure(figsize=(8,6))\n",
    "#     plt.plot(x, y, label=r\"$y=\\frac{1}{2}x + 5$\")\n",
    "#     plt.xlabel(\"x\")\n",
    "#     plt.ylabel(\"y\")\n",
    "\n",
    "#     plt.axhline(0, color=\"black\", linewidth=0.7)  # x-axis\n",
    "#     plt.axvline(0, color=\"black\", linewidth=0.7)  # y-axis\n",
    "#     plt.grid(True)\n",
    "    \n",
    "#     # --- Overlay: scatter samples from Y|X ~ Normal(0.5x+5, var=1) at selected x's ---\n",
    "#     rng = np.random.default_rng(42)\n",
    "#     x_values = np.arange(-8, 10, 2)\n",
    "#     n_samples_per_x = N_samples\n",
    "#     jitter_sd = 0.05  # small horizontal jitter so points don't perfectly overlap\n",
    "    \n",
    "#     dic_samples = {}\n",
    "    \n",
    "#     for i, xv in enumerate(x_values):\n",
    "#         mean_y = 0.5 * xv + 5\n",
    "#         y_samples = rng.normal(loc=mean_y, scale=variance, size=n_samples_per_x)\n",
    "#         # dic_samples[xv] = y_samples, [xv for i in range(n_samples_per_x)]\n",
    "#         dic_samples[xv] = y_samples\n",
    "\n",
    "#         ## add the distribution of the jitter\n",
    "#         x_samples = np.full(n_samples_per_x, xv) + rng.normal(0, jitter_sd, n_samples_per_x)\n",
    "#         label = \"Samples of $Y|X\\\\sim\\\\mathcal{N}(0.5x+5,1)$\" if i == 0 else None\n",
    "#         # label += f'\\nCorrelation: {correlation}'\n",
    "#         plt.scatter(x_samples, y_samples, s=12, alpha=0.4, edgecolors=\"none\", label=label)\n",
    "#     # plt.xlabel([i for i in range(-10, 12, 2)])\n",
    "#     plt.legend()\n",
    "#     #### melt some dataframes\n",
    "#     df = pd.DataFrame(dic_samples)\n",
    "#     df = pd.melt(df, var_name='x')\n",
    "#     correlation = np.corrcoef(df['x'], df['value'])[0,1]\n",
    "#     plt.title(\"Line and Conditional Distributions: y = (1/2)x + 5\" + f'\\nVariance: {np.round(variance, 5)}, Correlation: {np.round(correlation, 5)}')\n",
    "    \n",
    "#     plt.show()\n",
    "#     print(correlation)\n",
    "\n",
    "\n",
    "\n",
    "# for n in [1/5, 1/3, 0.5, 1, 2, 3, 5, 8, 13, 55]:\n",
    "#     post_line(variance=n, N_samples=200)"
   ]
  },
  {
   "cell_type": "code",
   "execution_count": null,
   "id": "40becff2-e893-4881-a780-27baf8dc224b",
   "metadata": {},
   "outputs": [],
   "source": []
  },
  {
   "cell_type": "code",
   "execution_count": 86,
   "id": "443e0d48-7684-419a-93dc-490a057c6cd1",
   "metadata": {},
   "outputs": [
    {
     "data": {
      "text/plain": [
       "0.1"
      ]
     },
     "execution_count": 86,
     "metadata": {},
     "output_type": "execute_result"
    }
   ],
   "source": [
    "100/1e3"
   ]
  },
  {
   "cell_type": "code",
   "execution_count": null,
   "id": "d825d998-7a73-4684-97e0-84b3bd39c82d",
   "metadata": {},
   "outputs": [],
   "source": []
  }
 ],
 "metadata": {
  "kernelspec": {
   "display_name": "Python 3 (ipykernel)",
   "language": "python",
   "name": "python3"
  },
  "language_info": {
   "codemirror_mode": {
    "name": "ipython",
    "version": 3
   },
   "file_extension": ".py",
   "mimetype": "text/x-python",
   "name": "python",
   "nbconvert_exporter": "python",
   "pygments_lexer": "ipython3",
   "version": "3.13.2"
  }
 },
 "nbformat": 4,
 "nbformat_minor": 5
}
