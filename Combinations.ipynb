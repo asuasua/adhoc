{
 "cells": [
  {
   "cell_type": "code",
   "execution_count": 2,
   "id": "074594a8-4756-4956-996f-13e9e550d585",
   "metadata": {},
   "outputs": [],
   "source": [
    "import pandas as pd\n",
    "import numpy as np\n",
    "import math\n",
    "import time\n",
    "import matplotlib.pyplot as plt"
   ]
  },
  {
   "cell_type": "code",
   "execution_count": 5,
   "id": "69d419ea-45bc-498e-97fc-b5bb02dcd791",
   "metadata": {},
   "outputs": [
    {
     "data": {
      "text/plain": [
       "1754419413.2627566"
      ]
     },
     "execution_count": 5,
     "metadata": {},
     "output_type": "execute_result"
    }
   ],
   "source": [
    "time.time()"
   ]
  },
  {
   "cell_type": "code",
   "execution_count": 221,
   "id": "78069b13-44c7-40a5-bcbb-0bff7faac9fe",
   "metadata": {},
   "outputs": [],
   "source": [
    "def func1(i):\n",
    "    ### Total 0/1 network combinations\n",
    "    Term1 = (2**i**2) \n",
    "    ### Subtract out the Combinations in which the diagonals of the matrix are 0 for\n",
    "    ### for a 3x3 matrix, this would be the 2**6 remaining combinations of the matrix if the diagonals are all 0\n",
    "    Term2 = (2**(i**2-i))\n",
    "    return Term1-Term2\n",
    "\n",
    "### Split a Number into a random set of combinations\n",
    "def split_number(N, splits):\n",
    "    while splits >= N:\n",
    "        return('choose another number')        \n",
    "    ### generate locations for split \n",
    "    split_locations = [0]\n",
    "    for i in range(splits):\n",
    "        val_last = split_locations[i]\n",
    "        # print(val_last)\n",
    "        x = np.random.uniform()\n",
    "        if x > val_last:\n",
    "            split_locations.append(x)\n",
    "        else:\n",
    "            while x <= val_last:\n",
    "                x = np.random.uniform()\n",
    "                # print(i, x)\n",
    "                if x > val_last:\n",
    "                    split_locations.append(x)\n",
    "                    break\n",
    "    split_locations[-1] = 1\n",
    "    return split_locations\n",
    "\n",
    "    \n",
    "def compute_differences(list_nums):\n",
    "    ### compute differences\n",
    "    differences = [list_nums[i]-list_nums[i-1] for i in range(1, len(list_nums))]\n",
    "    ### multiply by differences\n",
    "\n",
    "    return differences\n",
    "\n",
    "\n",
    "def compute_bucket_quantities(N, differences):\n",
    "    # Integer_Quantities = [int(np.max([1., np.floor(N*k)])) for k in differences]\n",
    "    Integer_Quantities = []\n",
    "    for k in differences:\n",
    "        val = int(np.max([1., np.floor(N*k)]))\n",
    "        checksum = sum(Integer_Quantities)\n",
    "        if checksum < N:\n",
    "            Integer_Quantities.append(val)\n",
    "        else:\n",
    "            Integer_Quantities.append(0)\n",
    "        # print(checksum)\n",
    "    return Integer_Quantities\n",
    "\n"
   ]
  },
  {
   "cell_type": "code",
   "execution_count": 271,
   "id": "cc15d766-cd5a-4ec4-ae8b-5b431672e94b",
   "metadata": {},
   "outputs": [],
   "source": [
    "# def split_number(A):\n",
    "#     def split(A):\n",
    "#         A1 = int(np.floor(A * np.random.uniform()))\n",
    "#         A2 = A - A1\n",
    "#         return A1, A2\n",
    "#     A1, A2 = split(A)\n",
    "#     while A1 <= 1 or A2 <=1:\n",
    "#         A1, A2 = split(A)\n",
    "#     return A1, A2\n",
    "\n",
    "def special_sum(N, N_Split):\n",
    "    if N < 1:\n",
    "       raise ValueError(\"N must be at least 1\")\n",
    "    else:\n",
    "        total_combinations = 1\n",
    "        for n in N_Split:\n",
    "            if n == 0:\n",
    "                pass\n",
    "            else:\n",
    "                sub_combinations = 0\n",
    "                for i in range(1, n+1):\n",
    "                    term = math.comb(n, i) * func1(i)\n",
    "                    sub_combinations += term\n",
    "                    # print(sub_combinations)\n",
    "            total_combinations *= sub_combinations\n",
    "    return total_combinations"
   ]
  },
  {
   "cell_type": "code",
   "execution_count": 273,
   "id": "fecd9c3b-7147-4354-91ed-e66dfd56e0b3",
   "metadata": {},
   "outputs": [
    {
     "data": {
      "text/plain": [
       "(4697076207218035326616411655444793727537155489268804758303759062448357402686533358501768854107683218230110167,\n",
       " 2582247415555462839138835735274223977381791974891691247556635401676867949567634842924888562848143179168405792001771308028)"
      ]
     },
     "execution_count": 273,
     "metadata": {},
     "output_type": "execute_result"
    }
   ],
   "source": [
    "# special_sum(20, [19, 1]), special_sum(20, [20])"
   ]
  },
  {
   "cell_type": "code",
   "execution_count": 283,
   "id": "f8c7540c-5f69-4308-882e-93fb211432ea",
   "metadata": {
    "scrolled": true
   },
   "outputs": [],
   "source": [
    "# counter = 0\n",
    "# for i in range(1000):\n",
    "#     try:\n",
    "#         split_number(7, 5)\n",
    "#     except:\n",
    "#         counter+=1\n",
    "#         print(counter)\n",
    "\n",
    "# N = 7\n",
    "# Splits = 5\n",
    "# N_Bootstrap = 100\n",
    "\n",
    "def Generate_Special_Sum_DF(N, Splits, N_Bootstrap):\n",
    "    t0=time.time()\n",
    "    counter = 0\n",
    "    Special_Sum_Meta = special_sum(N, [N])\n",
    "    list_Sub = []\n",
    "    for k in range(N_Bootstrap):\n",
    "        split_props = split_number(N, Splits)\n",
    "        # print(split_props)\n",
    "        differences = compute_differences(split_props)\n",
    "        # print(differences)\n",
    "        N_Split = compute_bucket_quantities(N, differences)\n",
    "        # print(N_Split)\n",
    "        list_Sub.append(special_sum(N, N_Split))\n",
    "        counter+=1\n",
    "        if counter % 20 == 0:\n",
    "            print('Counter: ', counter)\n",
    "            print('Minutes: ', (time.time()-t0)/t0)\n",
    "    # list_Meta = [Special_Sub_Meta for i in range(len(list_Sub))]\n",
    "    df = pd.DataFrame({'Sub': list_Sub})\n",
    "    df['Meta'] = Special_Sum_Meta\n",
    "    return df\n"
   ]
  },
  {
   "cell_type": "code",
   "execution_count": 309,
   "id": "799dda59-fd70-4c71-9e8f-832d0d1b10b4",
   "metadata": {
    "scrolled": true
   },
   "outputs": [
    {
     "name": "stdout",
     "output_type": "stream",
     "text": [
      "Counter:  20\n",
      "Minutes:  4.329124886111892e-11\n",
      "Counter:  40\n",
      "Minutes:  4.746880959867996e-11\n",
      "Counter:  60\n",
      "Minutes:  7.20594913638757e-11\n",
      "Counter:  80\n",
      "Minutes:  7.44384763764564e-11\n",
      "Counter:  100\n",
      "Minutes:  7.560323591848937e-11\n",
      "CPU times: user 134 ms, sys: 998 μs, total: 135 ms\n",
      "Wall time: 134 ms\n"
     ]
    }
   ],
   "source": []
  },
  {
   "cell_type": "code",
   "execution_count": 337,
   "id": "51a22353-bd2e-43ba-87a4-daefddd68871",
   "metadata": {},
   "outputs": [
    {
     "name": "stdout",
     "output_type": "stream",
     "text": [
      "Counter:  20\n",
      "Minutes:  3.107214786380081e-10\n",
      "Counter:  40\n",
      "Minutes:  9.303906753200907e-09\n",
      "Counter:  60\n",
      "Minutes:  3.022279969087828e-08\n",
      "Counter:  80\n",
      "Minutes:  3.2900809775397544e-08\n",
      "Counter:  100\n",
      "Minutes:  6.572188036643499e-08\n"
     ]
    },
    {
     "ename": "OverflowError",
     "evalue": "int too large to convert to float",
     "output_type": "error",
     "traceback": [
      "\u001b[31m---------------------------------------------------------------------------\u001b[39m",
      "\u001b[31mOverflowError\u001b[39m                             Traceback (most recent call last)",
      "\u001b[36mFile \u001b[39m\u001b[32m<timed exec>:11\u001b[39m\n",
      "\u001b[36mFile \u001b[39m\u001b[32m~/anaconda3/envs/deep_learning/lib/python3.13/site-packages/pandas/core/generic.py:6643\u001b[39m, in \u001b[36mNDFrame.astype\u001b[39m\u001b[34m(self, dtype, copy, errors)\u001b[39m\n\u001b[32m   6637\u001b[39m     results = [\n\u001b[32m   6638\u001b[39m         ser.astype(dtype, copy=copy, errors=errors) \u001b[38;5;28;01mfor\u001b[39;00m _, ser \u001b[38;5;129;01min\u001b[39;00m \u001b[38;5;28mself\u001b[39m.items()\n\u001b[32m   6639\u001b[39m     ]\n\u001b[32m   6641\u001b[39m \u001b[38;5;28;01melse\u001b[39;00m:\n\u001b[32m   6642\u001b[39m     \u001b[38;5;66;03m# else, only a single dtype is given\u001b[39;00m\n\u001b[32m-> \u001b[39m\u001b[32m6643\u001b[39m     new_data = \u001b[38;5;28;43mself\u001b[39;49m\u001b[43m.\u001b[49m\u001b[43m_mgr\u001b[49m\u001b[43m.\u001b[49m\u001b[43mastype\u001b[49m\u001b[43m(\u001b[49m\u001b[43mdtype\u001b[49m\u001b[43m=\u001b[49m\u001b[43mdtype\u001b[49m\u001b[43m,\u001b[49m\u001b[43m \u001b[49m\u001b[43mcopy\u001b[49m\u001b[43m=\u001b[49m\u001b[43mcopy\u001b[49m\u001b[43m,\u001b[49m\u001b[43m \u001b[49m\u001b[43merrors\u001b[49m\u001b[43m=\u001b[49m\u001b[43merrors\u001b[49m\u001b[43m)\u001b[49m\n\u001b[32m   6644\u001b[39m     res = \u001b[38;5;28mself\u001b[39m._constructor_from_mgr(new_data, axes=new_data.axes)\n\u001b[32m   6645\u001b[39m     \u001b[38;5;28;01mreturn\u001b[39;00m res.__finalize__(\u001b[38;5;28mself\u001b[39m, method=\u001b[33m\"\u001b[39m\u001b[33mastype\u001b[39m\u001b[33m\"\u001b[39m)\n",
      "\u001b[36mFile \u001b[39m\u001b[32m~/anaconda3/envs/deep_learning/lib/python3.13/site-packages/pandas/core/internals/managers.py:430\u001b[39m, in \u001b[36mBaseBlockManager.astype\u001b[39m\u001b[34m(self, dtype, copy, errors)\u001b[39m\n\u001b[32m    427\u001b[39m \u001b[38;5;28;01melif\u001b[39;00m using_copy_on_write():\n\u001b[32m    428\u001b[39m     copy = \u001b[38;5;28;01mFalse\u001b[39;00m\n\u001b[32m--> \u001b[39m\u001b[32m430\u001b[39m \u001b[38;5;28;01mreturn\u001b[39;00m \u001b[38;5;28;43mself\u001b[39;49m\u001b[43m.\u001b[49m\u001b[43mapply\u001b[49m\u001b[43m(\u001b[49m\n\u001b[32m    431\u001b[39m \u001b[43m    \u001b[49m\u001b[33;43m\"\u001b[39;49m\u001b[33;43mastype\u001b[39;49m\u001b[33;43m\"\u001b[39;49m\u001b[43m,\u001b[49m\n\u001b[32m    432\u001b[39m \u001b[43m    \u001b[49m\u001b[43mdtype\u001b[49m\u001b[43m=\u001b[49m\u001b[43mdtype\u001b[49m\u001b[43m,\u001b[49m\n\u001b[32m    433\u001b[39m \u001b[43m    \u001b[49m\u001b[43mcopy\u001b[49m\u001b[43m=\u001b[49m\u001b[43mcopy\u001b[49m\u001b[43m,\u001b[49m\n\u001b[32m    434\u001b[39m \u001b[43m    \u001b[49m\u001b[43merrors\u001b[49m\u001b[43m=\u001b[49m\u001b[43merrors\u001b[49m\u001b[43m,\u001b[49m\n\u001b[32m    435\u001b[39m \u001b[43m    \u001b[49m\u001b[43musing_cow\u001b[49m\u001b[43m=\u001b[49m\u001b[43musing_copy_on_write\u001b[49m\u001b[43m(\u001b[49m\u001b[43m)\u001b[49m\u001b[43m,\u001b[49m\n\u001b[32m    436\u001b[39m \u001b[43m\u001b[49m\u001b[43m)\u001b[49m\n",
      "\u001b[36mFile \u001b[39m\u001b[32m~/anaconda3/envs/deep_learning/lib/python3.13/site-packages/pandas/core/internals/managers.py:363\u001b[39m, in \u001b[36mBaseBlockManager.apply\u001b[39m\u001b[34m(self, f, align_keys, **kwargs)\u001b[39m\n\u001b[32m    361\u001b[39m         applied = b.apply(f, **kwargs)\n\u001b[32m    362\u001b[39m     \u001b[38;5;28;01melse\u001b[39;00m:\n\u001b[32m--> \u001b[39m\u001b[32m363\u001b[39m         applied = \u001b[38;5;28;43mgetattr\u001b[39;49m\u001b[43m(\u001b[49m\u001b[43mb\u001b[49m\u001b[43m,\u001b[49m\u001b[43m \u001b[49m\u001b[43mf\u001b[49m\u001b[43m)\u001b[49m\u001b[43m(\u001b[49m\u001b[43m*\u001b[49m\u001b[43m*\u001b[49m\u001b[43mkwargs\u001b[49m\u001b[43m)\u001b[49m\n\u001b[32m    364\u001b[39m     result_blocks = extend_blocks(applied, result_blocks)\n\u001b[32m    366\u001b[39m out = \u001b[38;5;28mtype\u001b[39m(\u001b[38;5;28mself\u001b[39m).from_blocks(result_blocks, \u001b[38;5;28mself\u001b[39m.axes)\n",
      "\u001b[36mFile \u001b[39m\u001b[32m~/anaconda3/envs/deep_learning/lib/python3.13/site-packages/pandas/core/internals/blocks.py:758\u001b[39m, in \u001b[36mBlock.astype\u001b[39m\u001b[34m(self, dtype, copy, errors, using_cow, squeeze)\u001b[39m\n\u001b[32m    755\u001b[39m         \u001b[38;5;28;01mraise\u001b[39;00m \u001b[38;5;167;01mValueError\u001b[39;00m(\u001b[33m\"\u001b[39m\u001b[33mCan not squeeze with more than one column.\u001b[39m\u001b[33m\"\u001b[39m)\n\u001b[32m    756\u001b[39m     values = values[\u001b[32m0\u001b[39m, :]  \u001b[38;5;66;03m# type: ignore[call-overload]\u001b[39;00m\n\u001b[32m--> \u001b[39m\u001b[32m758\u001b[39m new_values = \u001b[43mastype_array_safe\u001b[49m\u001b[43m(\u001b[49m\u001b[43mvalues\u001b[49m\u001b[43m,\u001b[49m\u001b[43m \u001b[49m\u001b[43mdtype\u001b[49m\u001b[43m,\u001b[49m\u001b[43m \u001b[49m\u001b[43mcopy\u001b[49m\u001b[43m=\u001b[49m\u001b[43mcopy\u001b[49m\u001b[43m,\u001b[49m\u001b[43m \u001b[49m\u001b[43merrors\u001b[49m\u001b[43m=\u001b[49m\u001b[43merrors\u001b[49m\u001b[43m)\u001b[49m\n\u001b[32m    760\u001b[39m new_values = maybe_coerce_values(new_values)\n\u001b[32m    762\u001b[39m refs = \u001b[38;5;28;01mNone\u001b[39;00m\n",
      "\u001b[36mFile \u001b[39m\u001b[32m~/anaconda3/envs/deep_learning/lib/python3.13/site-packages/pandas/core/dtypes/astype.py:237\u001b[39m, in \u001b[36mastype_array_safe\u001b[39m\u001b[34m(values, dtype, copy, errors)\u001b[39m\n\u001b[32m    234\u001b[39m     dtype = dtype.numpy_dtype\n\u001b[32m    236\u001b[39m \u001b[38;5;28;01mtry\u001b[39;00m:\n\u001b[32m--> \u001b[39m\u001b[32m237\u001b[39m     new_values = \u001b[43mastype_array\u001b[49m\u001b[43m(\u001b[49m\u001b[43mvalues\u001b[49m\u001b[43m,\u001b[49m\u001b[43m \u001b[49m\u001b[43mdtype\u001b[49m\u001b[43m,\u001b[49m\u001b[43m \u001b[49m\u001b[43mcopy\u001b[49m\u001b[43m=\u001b[49m\u001b[43mcopy\u001b[49m\u001b[43m)\u001b[49m\n\u001b[32m    238\u001b[39m \u001b[38;5;28;01mexcept\u001b[39;00m (\u001b[38;5;167;01mValueError\u001b[39;00m, \u001b[38;5;167;01mTypeError\u001b[39;00m):\n\u001b[32m    239\u001b[39m     \u001b[38;5;66;03m# e.g. _astype_nansafe can fail on object-dtype of strings\u001b[39;00m\n\u001b[32m    240\u001b[39m     \u001b[38;5;66;03m#  trying to convert to float\u001b[39;00m\n\u001b[32m    241\u001b[39m     \u001b[38;5;28;01mif\u001b[39;00m errors == \u001b[33m\"\u001b[39m\u001b[33mignore\u001b[39m\u001b[33m\"\u001b[39m:\n",
      "\u001b[36mFile \u001b[39m\u001b[32m~/anaconda3/envs/deep_learning/lib/python3.13/site-packages/pandas/core/dtypes/astype.py:182\u001b[39m, in \u001b[36mastype_array\u001b[39m\u001b[34m(values, dtype, copy)\u001b[39m\n\u001b[32m    179\u001b[39m     values = values.astype(dtype, copy=copy)\n\u001b[32m    181\u001b[39m \u001b[38;5;28;01melse\u001b[39;00m:\n\u001b[32m--> \u001b[39m\u001b[32m182\u001b[39m     values = \u001b[43m_astype_nansafe\u001b[49m\u001b[43m(\u001b[49m\u001b[43mvalues\u001b[49m\u001b[43m,\u001b[49m\u001b[43m \u001b[49m\u001b[43mdtype\u001b[49m\u001b[43m,\u001b[49m\u001b[43m \u001b[49m\u001b[43mcopy\u001b[49m\u001b[43m=\u001b[49m\u001b[43mcopy\u001b[49m\u001b[43m)\u001b[49m\n\u001b[32m    184\u001b[39m \u001b[38;5;66;03m# in pandas we don't store numpy str dtypes, so convert to object\u001b[39;00m\n\u001b[32m    185\u001b[39m \u001b[38;5;28;01mif\u001b[39;00m \u001b[38;5;28misinstance\u001b[39m(dtype, np.dtype) \u001b[38;5;129;01mand\u001b[39;00m \u001b[38;5;28missubclass\u001b[39m(values.dtype.type, \u001b[38;5;28mstr\u001b[39m):\n",
      "\u001b[36mFile \u001b[39m\u001b[32m~/anaconda3/envs/deep_learning/lib/python3.13/site-packages/pandas/core/dtypes/astype.py:133\u001b[39m, in \u001b[36m_astype_nansafe\u001b[39m\u001b[34m(arr, dtype, copy, skipna)\u001b[39m\n\u001b[32m    129\u001b[39m     \u001b[38;5;28;01mraise\u001b[39;00m \u001b[38;5;167;01mValueError\u001b[39;00m(msg)\n\u001b[32m    131\u001b[39m \u001b[38;5;28;01mif\u001b[39;00m copy \u001b[38;5;129;01mor\u001b[39;00m arr.dtype == \u001b[38;5;28mobject\u001b[39m \u001b[38;5;129;01mor\u001b[39;00m dtype == \u001b[38;5;28mobject\u001b[39m:\n\u001b[32m    132\u001b[39m     \u001b[38;5;66;03m# Explicit copy, or required since NumPy can't view from / to object.\u001b[39;00m\n\u001b[32m--> \u001b[39m\u001b[32m133\u001b[39m     \u001b[38;5;28;01mreturn\u001b[39;00m \u001b[43marr\u001b[49m\u001b[43m.\u001b[49m\u001b[43mastype\u001b[49m\u001b[43m(\u001b[49m\u001b[43mdtype\u001b[49m\u001b[43m,\u001b[49m\u001b[43m \u001b[49m\u001b[43mcopy\u001b[49m\u001b[43m=\u001b[49m\u001b[38;5;28;43;01mTrue\u001b[39;49;00m\u001b[43m)\u001b[49m\n\u001b[32m    135\u001b[39m \u001b[38;5;28;01mreturn\u001b[39;00m arr.astype(dtype, copy=copy)\n",
      "\u001b[31mOverflowError\u001b[39m: int too large to convert to float"
     ]
    }
   ],
   "source": [
    "%%time\n",
    "N = [20]\n",
    "Splits = [10]\n",
    "N_Bootstrap = [100]\n",
    "\n",
    "\n",
    "for n in N:\n",
    "    for s in Splits:\n",
    "        for b in N_Bootstrap:  \n",
    "            ### If the number is too large and generates an error, increase the number of splits\n",
    "            df = Generate_Special_Sum_DF(n, s, b)\n",
    "            df['Sub'] = df['Sub'].astype(float)\n",
    "            \n",
    "            # Calculate median and IQR (Q1 and Q3) of list_Sub\n",
    "            sub_median = np.median(df['Sub'])\n",
    "            sub_mean = np.mean(df['Sub'])\n",
    "            sub_q0 = np.percentile(df['Sub'], 0)\n",
    "            sub_q1 = np.percentile(df['Sub'], 25)\n",
    "            sub_q3 = np.percentile(df['Sub'], 75)\n",
    "            sub_q4 = np.percentile(df['Sub'], 100)\n",
    "            # Calculate median and IQR (Q1 and Q3) of list_Sub\n",
    "            sub_median = math.log10(np.median(df['Sub']))\n",
    "            sub_mean = math.log10(np.mean(df['Sub']))\n",
    "            sub_q0 = math.log10(np.percentile(df['Sub'], 0))\n",
    "            sub_q1 = math.log10(np.percentile(df['Sub'], 25))\n",
    "            sub_q3 = math.log10(np.percentile(df['Sub'], 75))\n",
    "            sub_q4 = math.log10(np.percentile(df['Sub'], 100))\n",
    "            \n",
    "            # Create figure with two subplots\n",
    "            fig, (ax1, ax2) = plt.subplots(1, 2, figsize=(12, 5))\n",
    "            \n",
    "            # 1. Scatter plot of Meta vs Sub\n",
    "            ax1.scatter(df['Meta'], df['Sub'], alpha=0.5)\n",
    "            ax1.set_xlabel('Log10(Meta Network)')\n",
    "            ax1.set_ylabel('Log10(Sub Networks)')\n",
    "            ax1.set_title('Scatter Plot: Meta vs Sub: Size {}'.format(N))\n",
    "            ax1.grid(True, linestyle='--', alpha=0.7)\n",
    "            \n",
    "            # 2. Histogram of list_Sub with median and IQR lines\n",
    "            ax2.hist(df['Sub'].apply(lambda x: math.log10(x)), bins=33, edgecolor='black', alpha=0.7)\n",
    "            ax2.axvline(sub_median, color='red', linestyle=':', label=f'Median: {math.log10(sub_median):.2f}')\n",
    "            ax2.axvline(sub_mean, color='red', linestyle=':', label=f'Mean: {math.log10(sub_mean):.2f}', linewidth=3)\n",
    "            ax2.axvline(sub_q0, color='black', linestyle=':', label=f'Q0 (0th): {math.log10(sub_q0):.2f}', linewidth=3)\n",
    "            ax2.axvline(sub_q1, color='green', linestyle=':', label=f'Q1 (25th): {math.log10(sub_q1):.2f}', linewidth=3)\n",
    "            ax2.axvline(sub_q3, color='green', linestyle=':', label=f'Q3 (75th): {math.log10(sub_q3):.2f}', linewidth=3)\n",
    "            ax2.axvline(sub_q4, color='black', linestyle=':', label=f'Q4 (100th): {math.log10(sub_q4):.2f}')\n",
    "            ax2.set_xlabel('Log10(Sub Networks)')\n",
    "            ax2.set_ylabel('Frequency')\n",
    "            ax2.set_title('Histogram of Sub Network Log Values with IQR: Size {}: Splits {}: Boots {}'.format(n, s, b))\n",
    "            ax2.grid(True, linestyle='--', alpha=0.7)  # Retain grid lines\n",
    "            ax2.legend()\n",
    "            \n",
    "            # Adjust layout to prevent overlap\n",
    "            plt.tight_layout()\n",
    "            plt.show()"
   ]
  },
  {
   "cell_type": "code",
   "execution_count": 317,
   "id": "19db5c3d-8cb5-4770-983c-08bcb3b40402",
   "metadata": {},
   "outputs": [
    {
     "data": {
      "text/plain": [
       "[]"
      ]
     },
     "execution_count": 317,
     "metadata": {},
     "output_type": "execute_result"
    }
   ],
   "source": [
    "list_Sub"
   ]
  },
  {
   "cell_type": "code",
   "execution_count": null,
   "id": "f622ed26-e870-4727-8489-49f3572c1529",
   "metadata": {},
   "outputs": [],
   "source": []
  },
  {
   "cell_type": "code",
   "execution_count": null,
   "id": "a294b3d7-8870-47eb-a187-aae2c8611d7b",
   "metadata": {},
   "outputs": [],
   "source": []
  },
  {
   "cell_type": "code",
   "execution_count": null,
   "id": "5c09f14d-f514-4f33-9c8e-ecb801fff6fd",
   "metadata": {},
   "outputs": [],
   "source": []
  },
  {
   "cell_type": "code",
   "execution_count": null,
   "id": "1c997e8b-46e6-4d0c-be04-f5e719318cdb",
   "metadata": {},
   "outputs": [],
   "source": []
  },
  {
   "cell_type": "code",
   "execution_count": 6,
   "id": "bcb91d37-a6a5-4437-910b-62865e8ab8a6",
   "metadata": {},
   "outputs": [
    {
     "data": {
      "text/plain": [
       "1074207"
      ]
     },
     "execution_count": 6,
     "metadata": {},
     "output_type": "execute_result"
    }
   ],
   "source": [
    "def summation_s_n(n):\n",
    "    \"\"\"\n",
    "    Computes the sum of S(k) from k=1 to N, where S(k) = sum from i=1 to k of (k choose i) * 2^(i^2 - i).\n",
    "    Args:\n",
    "        n (int): Upper limit of the outer summation (N >= 1).\n",
    "    Returns:\n",
    "        int: The result of the summation.\n",
    "    Raises:\n",
    "        ValueError: If n is less than 1.\n",
    "    \"\"\"\n",
    "    if n < 1:\n",
    "        raise ValueError(\"N must be at least 1\")\n",
    "    total = 0\n",
    "    for k in range(1, n + 1):\n",
    "        # Compute S(k) = sum from i=1 to k of (k choose i) * 2^(i^2 - i)\n",
    "        s_k = 0\n",
    "        for i in range(1, k + 1):\n",
    "            term = math.comb(k, i) * func1(i)#(2**(i*i) - 2**(i*i-i))\n",
    "            s_k += term\n",
    "        total += s_k\n",
    "    return total\n",
    "\n",
    "summation_s_n(5)"
   ]
  },
  {
   "cell_type": "code",
   "execution_count": 7,
   "id": "cec4c2b0-4659-4e3f-a250-7d1be0d782f4",
   "metadata": {},
   "outputs": [],
   "source": [
    "# A = summation_s_n(5)\n",
    "# B =  summation_s_n(3) * summation_s_n(2)\n",
    "# A, B"
   ]
  },
  {
   "cell_type": "code",
   "execution_count": null,
   "id": "bcbc5450-6de3-484d-ac93-caef5bba419b",
   "metadata": {},
   "outputs": [],
   "source": []
  },
  {
   "cell_type": "code",
   "execution_count": null,
   "id": "e02f108c-6137-493a-9523-0964ce22cd8f",
   "metadata": {},
   "outputs": [],
   "source": []
  },
  {
   "cell_type": "code",
   "execution_count": 218,
   "id": "a92e4f8b-9f0e-48a3-a1eb-dea7d24ccc9f",
   "metadata": {
    "scrolled": true
   },
   "outputs": [
    {
     "name": "stderr",
     "output_type": "stream",
     "text": [
      "/home/alsuar/anaconda3/envs/deep_learning/lib/python3.13/site-packages/numpy/_core/fromnumeric.py:3860: RuntimeWarning: Mean of empty slice.\n",
      "  return _methods._mean(a, axis=axis, dtype=dtype,\n",
      "/home/alsuar/anaconda3/envs/deep_learning/lib/python3.13/site-packages/numpy/_core/_methods.py:145: RuntimeWarning: invalid value encountered in scalar divide\n",
      "  ret = ret.dtype.type(ret / rcount)\n"
     ]
    },
    {
     "ename": "IndexError",
     "evalue": "index -1 is out of bounds for axis 0 with size 0",
     "output_type": "error",
     "traceback": [
      "\u001b[31m---------------------------------------------------------------------------\u001b[39m",
      "\u001b[31mIndexError\u001b[39m                                Traceback (most recent call last)",
      "\u001b[36mCell\u001b[39m\u001b[36m \u001b[39m\u001b[32mIn[218]\u001b[39m\u001b[32m, line 31\u001b[39m\n\u001b[32m     29\u001b[39m sub_median = np.median(list_Sub)\n\u001b[32m     30\u001b[39m sub_mean = np.mean(list_Sub)\n\u001b[32m---> \u001b[39m\u001b[32m31\u001b[39m sub_q0 = \u001b[43mnp\u001b[49m\u001b[43m.\u001b[49m\u001b[43mpercentile\u001b[49m\u001b[43m(\u001b[49m\u001b[43mlist_Sub\u001b[49m\u001b[43m,\u001b[49m\u001b[43m \u001b[49m\u001b[32;43m0\u001b[39;49m\u001b[43m)\u001b[49m\n\u001b[32m     32\u001b[39m sub_q1 = np.percentile(list_Sub, \u001b[32m25\u001b[39m)\n\u001b[32m     33\u001b[39m sub_q3 = np.percentile(list_Sub, \u001b[32m75\u001b[39m)\n",
      "\u001b[36mFile \u001b[39m\u001b[32m~/anaconda3/envs/deep_learning/lib/python3.13/site-packages/numpy/lib/_function_base_impl.py:4273\u001b[39m, in \u001b[36mpercentile\u001b[39m\u001b[34m(a, q, axis, out, overwrite_input, method, keepdims, weights, interpolation)\u001b[39m\n\u001b[32m   4270\u001b[39m     \u001b[38;5;28;01mif\u001b[39;00m np.any(weights < \u001b[32m0\u001b[39m):\n\u001b[32m   4271\u001b[39m         \u001b[38;5;28;01mraise\u001b[39;00m \u001b[38;5;167;01mValueError\u001b[39;00m(\u001b[33m\"\u001b[39m\u001b[33mWeights must be non-negative.\u001b[39m\u001b[33m\"\u001b[39m)\n\u001b[32m-> \u001b[39m\u001b[32m4273\u001b[39m \u001b[38;5;28;01mreturn\u001b[39;00m \u001b[43m_quantile_unchecked\u001b[49m\u001b[43m(\u001b[49m\n\u001b[32m   4274\u001b[39m \u001b[43m    \u001b[49m\u001b[43ma\u001b[49m\u001b[43m,\u001b[49m\u001b[43m \u001b[49m\u001b[43mq\u001b[49m\u001b[43m,\u001b[49m\u001b[43m \u001b[49m\u001b[43maxis\u001b[49m\u001b[43m,\u001b[49m\u001b[43m \u001b[49m\u001b[43mout\u001b[49m\u001b[43m,\u001b[49m\u001b[43m \u001b[49m\u001b[43moverwrite_input\u001b[49m\u001b[43m,\u001b[49m\u001b[43m \u001b[49m\u001b[43mmethod\u001b[49m\u001b[43m,\u001b[49m\u001b[43m \u001b[49m\u001b[43mkeepdims\u001b[49m\u001b[43m,\u001b[49m\u001b[43m \u001b[49m\u001b[43mweights\u001b[49m\u001b[43m)\u001b[49m\n",
      "\u001b[36mFile \u001b[39m\u001b[32m~/anaconda3/envs/deep_learning/lib/python3.13/site-packages/numpy/lib/_function_base_impl.py:4550\u001b[39m, in \u001b[36m_quantile_unchecked\u001b[39m\u001b[34m(a, q, axis, out, overwrite_input, method, keepdims, weights)\u001b[39m\n\u001b[32m   4541\u001b[39m \u001b[38;5;28;01mdef\u001b[39;00m\u001b[38;5;250m \u001b[39m\u001b[34m_quantile_unchecked\u001b[39m(a,\n\u001b[32m   4542\u001b[39m                         q,\n\u001b[32m   4543\u001b[39m                         axis=\u001b[38;5;28;01mNone\u001b[39;00m,\n\u001b[32m   (...)\u001b[39m\u001b[32m   4547\u001b[39m                         keepdims=\u001b[38;5;28;01mFalse\u001b[39;00m,\n\u001b[32m   4548\u001b[39m                         weights=\u001b[38;5;28;01mNone\u001b[39;00m):\n\u001b[32m   4549\u001b[39m \u001b[38;5;250m    \u001b[39m\u001b[33;03m\"\"\"Assumes that q is in [0, 1], and is an ndarray\"\"\"\u001b[39;00m\n\u001b[32m-> \u001b[39m\u001b[32m4550\u001b[39m     \u001b[38;5;28;01mreturn\u001b[39;00m \u001b[43m_ureduce\u001b[49m\u001b[43m(\u001b[49m\u001b[43ma\u001b[49m\u001b[43m,\u001b[49m\n\u001b[32m   4551\u001b[39m \u001b[43m                    \u001b[49m\u001b[43mfunc\u001b[49m\u001b[43m=\u001b[49m\u001b[43m_quantile_ureduce_func\u001b[49m\u001b[43m,\u001b[49m\n\u001b[32m   4552\u001b[39m \u001b[43m                    \u001b[49m\u001b[43mq\u001b[49m\u001b[43m=\u001b[49m\u001b[43mq\u001b[49m\u001b[43m,\u001b[49m\n\u001b[32m   4553\u001b[39m \u001b[43m                    \u001b[49m\u001b[43mweights\u001b[49m\u001b[43m=\u001b[49m\u001b[43mweights\u001b[49m\u001b[43m,\u001b[49m\n\u001b[32m   4554\u001b[39m \u001b[43m                    \u001b[49m\u001b[43mkeepdims\u001b[49m\u001b[43m=\u001b[49m\u001b[43mkeepdims\u001b[49m\u001b[43m,\u001b[49m\n\u001b[32m   4555\u001b[39m \u001b[43m                    \u001b[49m\u001b[43maxis\u001b[49m\u001b[43m=\u001b[49m\u001b[43maxis\u001b[49m\u001b[43m,\u001b[49m\n\u001b[32m   4556\u001b[39m \u001b[43m                    \u001b[49m\u001b[43mout\u001b[49m\u001b[43m=\u001b[49m\u001b[43mout\u001b[49m\u001b[43m,\u001b[49m\n\u001b[32m   4557\u001b[39m \u001b[43m                    \u001b[49m\u001b[43moverwrite_input\u001b[49m\u001b[43m=\u001b[49m\u001b[43moverwrite_input\u001b[49m\u001b[43m,\u001b[49m\n\u001b[32m   4558\u001b[39m \u001b[43m                    \u001b[49m\u001b[43mmethod\u001b[49m\u001b[43m=\u001b[49m\u001b[43mmethod\u001b[49m\u001b[43m)\u001b[49m\n",
      "\u001b[36mFile \u001b[39m\u001b[32m~/anaconda3/envs/deep_learning/lib/python3.13/site-packages/numpy/lib/_function_base_impl.py:3894\u001b[39m, in \u001b[36m_ureduce\u001b[39m\u001b[34m(a, func, keepdims, **kwargs)\u001b[39m\n\u001b[32m   3891\u001b[39m             index_out = (\u001b[32m0\u001b[39m, ) * nd\n\u001b[32m   3892\u001b[39m             kwargs[\u001b[33m'\u001b[39m\u001b[33mout\u001b[39m\u001b[33m'\u001b[39m] = out[(\u001b[38;5;28mEllipsis\u001b[39m, ) + index_out]\n\u001b[32m-> \u001b[39m\u001b[32m3894\u001b[39m r = \u001b[43mfunc\u001b[49m\u001b[43m(\u001b[49m\u001b[43ma\u001b[49m\u001b[43m,\u001b[49m\u001b[43m \u001b[49m\u001b[43m*\u001b[49m\u001b[43m*\u001b[49m\u001b[43mkwargs\u001b[49m\u001b[43m)\u001b[49m\n\u001b[32m   3896\u001b[39m \u001b[38;5;28;01mif\u001b[39;00m out \u001b[38;5;129;01mis\u001b[39;00m \u001b[38;5;129;01mnot\u001b[39;00m \u001b[38;5;28;01mNone\u001b[39;00m:\n\u001b[32m   3897\u001b[39m     \u001b[38;5;28;01mreturn\u001b[39;00m out\n",
      "\u001b[36mFile \u001b[39m\u001b[32m~/anaconda3/envs/deep_learning/lib/python3.13/site-packages/numpy/lib/_function_base_impl.py:4727\u001b[39m, in \u001b[36m_quantile_ureduce_func\u001b[39m\u001b[34m(a, q, weights, axis, out, overwrite_input, method)\u001b[39m\n\u001b[32m   4725\u001b[39m         arr = a.copy()\n\u001b[32m   4726\u001b[39m         wgt = weights\n\u001b[32m-> \u001b[39m\u001b[32m4727\u001b[39m result = \u001b[43m_quantile\u001b[49m\u001b[43m(\u001b[49m\u001b[43marr\u001b[49m\u001b[43m,\u001b[49m\n\u001b[32m   4728\u001b[39m \u001b[43m                   \u001b[49m\u001b[43mquantiles\u001b[49m\u001b[43m=\u001b[49m\u001b[43mq\u001b[49m\u001b[43m,\u001b[49m\n\u001b[32m   4729\u001b[39m \u001b[43m                   \u001b[49m\u001b[43maxis\u001b[49m\u001b[43m=\u001b[49m\u001b[43maxis\u001b[49m\u001b[43m,\u001b[49m\n\u001b[32m   4730\u001b[39m \u001b[43m                   \u001b[49m\u001b[43mmethod\u001b[49m\u001b[43m=\u001b[49m\u001b[43mmethod\u001b[49m\u001b[43m,\u001b[49m\n\u001b[32m   4731\u001b[39m \u001b[43m                   \u001b[49m\u001b[43mout\u001b[49m\u001b[43m=\u001b[49m\u001b[43mout\u001b[49m\u001b[43m,\u001b[49m\n\u001b[32m   4732\u001b[39m \u001b[43m                   \u001b[49m\u001b[43mweights\u001b[49m\u001b[43m=\u001b[49m\u001b[43mwgt\u001b[49m\u001b[43m)\u001b[49m\n\u001b[32m   4733\u001b[39m \u001b[38;5;28;01mreturn\u001b[39;00m result\n",
      "\u001b[36mFile \u001b[39m\u001b[32m~/anaconda3/envs/deep_learning/lib/python3.13/site-packages/numpy/lib/_function_base_impl.py:4849\u001b[39m, in \u001b[36m_quantile\u001b[39m\u001b[34m(arr, quantiles, axis, method, out, weights)\u001b[39m\n\u001b[32m   4842\u001b[39m arr.partition(\n\u001b[32m   4843\u001b[39m     np.unique(np.concatenate(([\u001b[32m0\u001b[39m, -\u001b[32m1\u001b[39m],\n\u001b[32m   4844\u001b[39m                               previous_indexes.ravel(),\n\u001b[32m   4845\u001b[39m                               next_indexes.ravel(),\n\u001b[32m   4846\u001b[39m                               ))),\n\u001b[32m   4847\u001b[39m     axis=\u001b[32m0\u001b[39m)\n\u001b[32m   4848\u001b[39m \u001b[38;5;28;01mif\u001b[39;00m supports_nans:\n\u001b[32m-> \u001b[39m\u001b[32m4849\u001b[39m     slices_having_nans = np.isnan(\u001b[43marr\u001b[49m\u001b[43m[\u001b[49m\u001b[43m-\u001b[49m\u001b[32;43m1\u001b[39;49m\u001b[43m,\u001b[49m\u001b[43m \u001b[49m\u001b[43m.\u001b[49m\u001b[43m.\u001b[49m\u001b[43m.\u001b[49m\u001b[43m]\u001b[49m)\n\u001b[32m   4850\u001b[39m \u001b[38;5;28;01melse\u001b[39;00m:\n\u001b[32m   4851\u001b[39m     slices_having_nans = \u001b[38;5;28;01mNone\u001b[39;00m\n",
      "\u001b[31mIndexError\u001b[39m: index -1 is out of bounds for axis 0 with size 0"
     ]
    }
   ],
   "source": [
    "list_Meta = []\n",
    "list_Sub = []\n",
    "\n",
    "A = 100\n",
    "def split_number(A):\n",
    "    def split(A):\n",
    "        A1 = int(np.floor(A * np.random.uniform()))\n",
    "        A2 = A - A1\n",
    "        return A1, A2\n",
    "    A1, A2 = split(A)\n",
    "    while A1 <= 1 or A2 <=1:\n",
    "        A1, A2 = split(A)\n",
    "    return A1, A2\n",
    "\n",
    "# for i in range(1000):\n",
    "#     A1, A2 = split_number(A)\n",
    "#     N_Meta_Network = summation_s_n(A)\n",
    "#     N_Sub_Networks =  summation_s_n(A1) * summation_s_n(A2)\n",
    "#     list_Meta.append(math.log10(N_Meta_Network))\n",
    "#     list_Sub.append(math.log10(N_Sub_Networks))\n",
    "\n",
    "# Create DataFrame\n",
    "df = pd.DataFrame({'Meta': list_Meta, 'Sub': list_Sub})\n",
    "\n",
    "# Create DataFrame\n",
    "df = pd.DataFrame({'Meta': list_Meta, 'Sub': list_Sub})\n",
    "\n",
    "# Calculate median and IQR (Q1 and Q3) of list_Sub\n",
    "sub_median = np.median(list_Sub)\n",
    "sub_mean = np.mean(list_Sub)\n",
    "sub_q0 = np.percentile(list_Sub, 0)\n",
    "sub_q1 = np.percentile(list_Sub, 25)\n",
    "sub_q3 = np.percentile(list_Sub, 75)\n",
    "sub_q4 = np.percentile(list_Sub, 100)\n",
    "\n",
    "# Create figure with two subplots\n",
    "fig, (ax1, ax2) = plt.subplots(1, 2, figsize=(12, 5))\n",
    "\n",
    "# 1. Scatter plot of Meta vs Sub\n",
    "ax1.scatter(df['Meta'], df['Sub'], alpha=0.5)\n",
    "ax1.set_xlabel('Log10(Meta Network)')\n",
    "ax1.set_ylabel('Log10(Sub Networks)')\n",
    "ax1.set_title('Scatter Plot: Meta vs Sub: Size {}'.format(A))\n",
    "ax1.grid(True, linestyle='--', alpha=0.7)\n",
    "\n",
    "# 2. Histogram of list_Sub with median and IQR lines\n",
    "ax2.hist(list_Sub, bins=20, edgecolor='black', alpha=0.7)\n",
    "ax2.axvline(sub_median, color='red', linestyle=':', label=f'Median: {sub_median:.2f}')\n",
    "ax2.axvline(sub_mean, color='red', linestyle=':', label=f'Mean: {sub_median:.2f}', linewidth=3)\n",
    "ax2.axvline(sub_q0, color='black', linestyle=':', label=f'Q1 (0th): {sub_q1:.2f}', linewidth=3)\n",
    "ax2.axvline(sub_q1, color='green', linestyle=':', label=f'Q1 (25th): {sub_q1:.2f}', linewidth=3)\n",
    "ax2.axvline(sub_q3, color='black', linestyle=':', label=f'Q3 (75th): {sub_q3:.2f}', linewidth=3)\n",
    "ax2.axvline(sub_q4, color='black', linestyle=':', label=f'Q1 (100th): {sub_q1:.2f}')\n",
    "ax2.set_xlabel('Log10(Sub Networks)')\n",
    "ax2.set_ylabel('Frequency')\n",
    "ax2.set_title('Histogram of Sub Network Log Values with IQR: Size {}'.format(A))\n",
    "ax2.grid(True, linestyle='--', alpha=0.7)  # Retain grid lines\n",
    "ax2.legend()\n",
    "\n",
    "# Adjust layout to prevent overlap\n",
    "plt.tight_layout()\n",
    "plt.show()"
   ]
  },
  {
   "cell_type": "code",
   "execution_count": null,
   "id": "05924ffe-dad7-4501-86b8-650bf764b155",
   "metadata": {},
   "outputs": [],
   "source": []
  },
  {
   "cell_type": "code",
   "execution_count": null,
   "id": "e59fb7e0-a913-4b64-9466-9216f4d698b5",
   "metadata": {},
   "outputs": [],
   "source": []
  },
  {
   "cell_type": "code",
   "execution_count": 36,
   "id": "de51c7f0-c7eb-4544-a75c-588398298bb9",
   "metadata": {
    "scrolled": true
   },
   "outputs": [
    {
     "name": "stdout",
     "output_type": "stream",
     "text": [
      "Segment Time:  100 :  0.00048671563466389975\n",
      "Total Time:  100 :  0.00048671563466389975\n",
      "Appx, Num Digits:  3010.299956639812\n",
      "\n",
      "\n",
      "Segment Time:  200 :  0.005491721630096436\n",
      "Total Time:  200 :  0.005491721630096436\n",
      "Appx, Num Digits:  12041.199826559248\n",
      "\n",
      "\n",
      "Segment Time:  300 :  0.03584648768107097\n",
      "Total Time:  300 :  0.03584648768107097\n",
      "Appx, Num Digits:  27092.69960975831\n",
      "\n",
      "\n",
      "Segment Time:  400 :  0.14534886678059897\n",
      "Total Time:  400 :  0.14534886678059897\n",
      "Appx, Num Digits:  48164.79930623699\n",
      "\n",
      "\n",
      "Segment Time:  500 :  0.3877873420715332\n",
      "Total Time:  500 :  0.3877873420715332\n",
      "Appx, Num Digits:  75257.4989159953\n",
      "\n",
      "\n",
      "Segment Time:  600 :  0.9041422724723815\n",
      "Total Time:  600 :  0.9041422724723815\n",
      "Appx, Num Digits:  108370.79843903323\n",
      "\n",
      "\n",
      "Segment Time:  700 :  1.890860637029012\n",
      "Total Time:  700 :  1.890860637029012\n",
      "Appx, Num Digits:  147504.69787535077\n",
      "\n",
      "\n",
      "Segment Time:  800 :  3.6390781958897906\n",
      "Total Time:  800 :  3.6390781958897906\n",
      "Appx, Num Digits:  192659.19722494797\n",
      "\n",
      "\n",
      "Segment Time:  900 :  6.49461073478063\n",
      "Total Time:  900 :  6.49461073478063\n",
      "Appx, Num Digits:  243834.29648782476\n",
      "\n",
      "\n",
      "Segment Time:  1000 :  10.944223860899607\n",
      "Total Time:  1000 :  10.944223860899607\n",
      "Appx, Num Digits:  301029.9956639812\n",
      "\n",
      "\n",
      "Segment Time:  1100 :  17.728136996428173\n",
      "Total Time:  1100 :  17.728136996428173\n",
      "Appx, Num Digits:  364246.29475341726\n",
      "\n",
      "\n"
     ]
    },
    {
     "ename": "KeyboardInterrupt",
     "evalue": "",
     "output_type": "error",
     "traceback": [
      "\u001b[31m---------------------------------------------------------------------------\u001b[39m",
      "\u001b[31mKeyboardInterrupt\u001b[39m                         Traceback (most recent call last)",
      "\u001b[36mCell\u001b[39m\u001b[36m \u001b[39m\u001b[32mIn[36]\u001b[39m\u001b[32m, line 5\u001b[39m\n\u001b[32m      3\u001b[39m \u001b[38;5;28;01mfor\u001b[39;00m k \u001b[38;5;129;01min\u001b[39;00m \u001b[38;5;28mrange\u001b[39m(\u001b[32m100\u001b[39m, \u001b[32m2200\u001b[39m, \u001b[32m100\u001b[39m):\n\u001b[32m      4\u001b[39m     t1 = time.time()\n\u001b[32m----> \u001b[39m\u001b[32m5\u001b[39m     val = \u001b[43msummation_s_n\u001b[49m\u001b[43m(\u001b[49m\u001b[43mk\u001b[49m\u001b[43m)\u001b[49m\n\u001b[32m      6\u001b[39m     log = math.log10(val)\n\u001b[32m      7\u001b[39m     t2 = time.time()\n",
      "\u001b[36mCell\u001b[39m\u001b[36m \u001b[39m\u001b[32mIn[22]\u001b[39m\u001b[32m, line 18\u001b[39m, in \u001b[36msummation_s_n\u001b[39m\u001b[34m(n)\u001b[39m\n\u001b[32m     16\u001b[39m s_k = \u001b[32m0\u001b[39m\n\u001b[32m     17\u001b[39m \u001b[38;5;28;01mfor\u001b[39;00m i \u001b[38;5;129;01min\u001b[39;00m \u001b[38;5;28mrange\u001b[39m(\u001b[32m1\u001b[39m, k + \u001b[32m1\u001b[39m):\n\u001b[32m---> \u001b[39m\u001b[32m18\u001b[39m     term = \u001b[43mmath\u001b[49m\u001b[43m.\u001b[49m\u001b[43mcomb\u001b[49m\u001b[43m(\u001b[49m\u001b[43mk\u001b[49m\u001b[43m,\u001b[49m\u001b[43m \u001b[49m\u001b[43mi\u001b[49m\u001b[43m)\u001b[49m\u001b[43m \u001b[49m\u001b[43m*\u001b[49m\u001b[43m \u001b[49m\u001b[43mfunc1\u001b[49m\u001b[43m(\u001b[49m\u001b[43mi\u001b[49m\u001b[43m)\u001b[49m\u001b[38;5;66;03m#(2**(i*i) - 2**(i*i-i))\u001b[39;00m\n\u001b[32m     19\u001b[39m     s_k += term\n\u001b[32m     20\u001b[39m total += s_k\n",
      "\u001b[31mKeyboardInterrupt\u001b[39m: "
     ]
    }
   ],
   "source": [
    "t0 =  time.time()\n",
    "list_time = []\n",
    "for k in range(100, 2200, 100):\n",
    "    t1 = time.time()\n",
    "    val = summation_s_n(k)\n",
    "    log = math.log10(val)\n",
    "    t2 = time.time()\n",
    "    time_elapsed = (t2-t0)/60\n",
    "    print('Segment Time: ', k, ': ', time_elapsed)\n",
    "    print('Total Time: ', k, ': ', (t2-t0)/60)\n",
    "    # print(val)\n",
    "    print('Appx, Num Digits: ', log)\n",
    "    list_time.append(time_elapsed)\n",
    "    print('\\n')\n",
    "\n",
    "pd.plot(pd.DataFrame(list_time))"
   ]
  },
  {
   "cell_type": "code",
   "execution_count": null,
   "id": "4bbf59c3-9f3e-4e93-aecb-df825f9ef20f",
   "metadata": {},
   "outputs": [],
   "source": []
  }
 ],
 "metadata": {
  "kernelspec": {
   "display_name": "Python 3 (ipykernel)",
   "language": "python",
   "name": "python3"
  },
  "language_info": {
   "codemirror_mode": {
    "name": "ipython",
    "version": 3
   },
   "file_extension": ".py",
   "mimetype": "text/x-python",
   "name": "python",
   "nbconvert_exporter": "python",
   "pygments_lexer": "ipython3",
   "version": "3.13.2"
  }
 },
 "nbformat": 4,
 "nbformat_minor": 5
}
