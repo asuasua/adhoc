{
 "cells": [
  {
   "cell_type": "code",
   "execution_count": 35,
   "id": "320b6a23-4197-4354-b776-7f00e86c2e88",
   "metadata": {},
   "outputs": [],
   "source": [
    "import pandas as pd"
   ]
  },
  {
   "cell_type": "code",
   "execution_count": 75,
   "id": "a9149d6f-da14-48cb-b627-9200b3ba29d2",
   "metadata": {},
   "outputs": [],
   "source": [
    "def monthly_payment(n_periods, period_interest_rate, present_value, future_value=0):\n",
    "    \"\"\"\n",
    "    Calculate monthly payment using Present/Future Value formula.\n",
    "    time_years : float\n",
    "        Loan or investment duration in years.\n",
    "    annual_interest_rate : float\n",
    "        Annual interest rate in percentage (e.g., 6 for 6%).\n",
    "    present_value : float\n",
    "        Present value (loan amount or investment).\n",
    "    future_value : float, optional\n",
    "        Future value at the end of the period (default 0).\n",
    "    Returns\n",
    "    -------\n",
    "    float\n",
    "        Monthly payment.\n",
    "    \"\"\"\n",
    "    # Convert annual rate to monthly decimal rate\n",
    "    r = period_interest_rate\n",
    "    n = n_periods\n",
    "\n",
    "    if r == 0:\n",
    "        # No interest case\n",
    "        return (present_value + future_value) / n\n",
    "\n",
    "    # Payment formula\n",
    "    pmt = (r * (present_value + future_value / ((1 + r) ** n))) / (1 - (1 + r) ** -n)\n",
    "\n",
    "    lifetime_pmt = n_periods*pmt\n",
    "    lifetime_yield = (lifetime_pmt-present_value)/present_value\n",
    "    \n",
    "    # print(f'Lifetime Payment: {lifetime_pmt}'\n",
    "    print(f'Period Payment: {round(pmt, 2)}')\n",
    "    print(f'Total Periods: {n_periods}')\n",
    "    print(f'Yearly Payment: {round(pmt*12, 2)}')\n",
    "    print(f'Lifetime Payment if Paid every Month: {round(lifetime_pmt, 2)}')    \n",
    "    print(f'Lifetime Yield: {round(lifetime_yield*100, 2)}%')\n",
    "\n",
    "    return pmt#, lifetime_pmt, lifetime_yield\n",
    "\n",
    "\n",
    "\n"
   ]
  },
  {
   "cell_type": "code",
   "execution_count": 61,
   "id": "7123b532-7b3b-42f1-87f5-60a99d742d84",
   "metadata": {},
   "outputs": [],
   "source": [
    "# If I have 500K and wish to buy a 400K home, how many months does it take to reach the 400K if I took out a 30 year loan and borrowed at 5%?"
   ]
  },
  {
   "cell_type": "code",
   "execution_count": 78,
   "id": "f69d748f-4cc5-4c58-aaaa-59e17991a225",
   "metadata": {},
   "outputs": [],
   "source": [
    "\n",
    "def generate_amortatized_loan(total_principal, n_periods, period_interest_rate,period_payment):\n",
    "    df = pd.DataFrame(columns=['Period', 'Beginning_Principle', 'Payment', 'Interest_Rate'\n",
    "                                                  , 'Paid_Interest', 'Paid_Principal'\n",
    "                                                  , 'Ending_Principle','Paid_Total'])\n",
    "    period_counter = 0\n",
    "    ending_balance = total_principal\n",
    "    total_paid = 0\n",
    "    total_interest = 0\n",
    "    \n",
    "    for p in range(n_periods):\n",
    "        period_counter += 1\n",
    "        beginning_balance = ending_balance\n",
    "        payment = period_payment\n",
    "        interest = period_interest_rate\n",
    "        paid_interest = beginning_balance*interest\n",
    "        paid_principal = payment-paid_interest\n",
    "        ending_balance = beginning_balance-paid_principal\n",
    "        dic = {}\n",
    "        dic['Beginning_Principle'] = [beginning_balance]\n",
    "        dic['Period'] = [period_counter]\n",
    "        dic['Payment'] = [payment]\n",
    "        dic['Interest_Rate'] = [interest]\n",
    "        dic['Paid_Interest'] = [paid_interest]\n",
    "        dic['Paid_Principal'] = [paid_principal]\n",
    "        dic['Ending_Principle'] = [ending_balance]\n",
    "        df = pd.concat([df, pd.DataFrame(dic)])    \n",
    "        # break\n",
    "    return df"
   ]
  },
  {
   "cell_type": "markdown",
   "id": "8a6e126e-20ef-44e2-9825-f2f9d51f27f0",
   "metadata": {},
   "source": [
    "#### Generate Amortatized Loan"
   ]
  },
  {
   "cell_type": "code",
   "execution_count": 93,
   "id": "5528a799-42e3-4d1f-a0a0-a62528a6b520",
   "metadata": {},
   "outputs": [
    {
     "name": "stdout",
     "output_type": "stream",
     "text": [
      "Period Payment: 60450.75\n",
      "Total Periods: 5\n",
      "Yearly Payment: 725408.99\n",
      "Lifetime Payment if Paid every Month: 302253.75\n",
      "Lifetime Yield: 0.75%\n"
     ]
    },
    {
     "name": "stderr",
     "output_type": "stream",
     "text": [
      "/tmp/ipykernel_1157262/233019401.py:26: FutureWarning: The behavior of DataFrame concatenation with empty or all-NA entries is deprecated. In a future version, this will no longer exclude empty or all-NA columns when determining the result dtypes. To retain the old behavior, exclude the relevant entries before the concat operation.\n",
      "  df = pd.concat([df, pd.DataFrame(dic)])\n"
     ]
    },
    {
     "data": {
      "text/html": [
       "<div>\n",
       "<style scoped>\n",
       "    .dataframe tbody tr th:only-of-type {\n",
       "        vertical-align: middle;\n",
       "    }\n",
       "\n",
       "    .dataframe tbody tr th {\n",
       "        vertical-align: top;\n",
       "    }\n",
       "\n",
       "    .dataframe thead th {\n",
       "        text-align: right;\n",
       "    }\n",
       "</style>\n",
       "<table border=\"1\" class=\"dataframe\">\n",
       "  <thead>\n",
       "    <tr style=\"text-align: right;\">\n",
       "      <th></th>\n",
       "      <th>Period</th>\n",
       "      <th>Beginning_Principle</th>\n",
       "      <th>Payment</th>\n",
       "      <th>Interest_Rate</th>\n",
       "      <th>Paid_Interest</th>\n",
       "      <th>Paid_Principal</th>\n",
       "      <th>Ending_Principle</th>\n",
       "      <th>Paid_Total</th>\n",
       "    </tr>\n",
       "  </thead>\n",
       "  <tbody>\n",
       "    <tr>\n",
       "      <th>0</th>\n",
       "      <td>1</td>\n",
       "      <td>300000</td>\n",
       "      <td>60450.749062</td>\n",
       "      <td>0.0025</td>\n",
       "      <td>750.000000</td>\n",
       "      <td>59700.749062</td>\n",
       "      <td>2.402993e+05</td>\n",
       "      <td>NaN</td>\n",
       "    </tr>\n",
       "    <tr>\n",
       "      <th>0</th>\n",
       "      <td>2</td>\n",
       "      <td>240299.250938</td>\n",
       "      <td>60450.749062</td>\n",
       "      <td>0.0025</td>\n",
       "      <td>600.748127</td>\n",
       "      <td>59850.000935</td>\n",
       "      <td>1.804493e+05</td>\n",
       "      <td>NaN</td>\n",
       "    </tr>\n",
       "    <tr>\n",
       "      <th>0</th>\n",
       "      <td>3</td>\n",
       "      <td>180449.250003</td>\n",
       "      <td>60450.749062</td>\n",
       "      <td>0.0025</td>\n",
       "      <td>451.123125</td>\n",
       "      <td>59999.625937</td>\n",
       "      <td>1.204496e+05</td>\n",
       "      <td>NaN</td>\n",
       "    </tr>\n",
       "    <tr>\n",
       "      <th>0</th>\n",
       "      <td>4</td>\n",
       "      <td>120449.624066</td>\n",
       "      <td>60450.749062</td>\n",
       "      <td>0.0025</td>\n",
       "      <td>301.124060</td>\n",
       "      <td>60149.625002</td>\n",
       "      <td>6.030000e+04</td>\n",
       "      <td>NaN</td>\n",
       "    </tr>\n",
       "    <tr>\n",
       "      <th>0</th>\n",
       "      <td>5</td>\n",
       "      <td>60299.999064</td>\n",
       "      <td>60450.749062</td>\n",
       "      <td>0.0025</td>\n",
       "      <td>150.749998</td>\n",
       "      <td>60299.999064</td>\n",
       "      <td>-5.980837e-09</td>\n",
       "      <td>NaN</td>\n",
       "    </tr>\n",
       "  </tbody>\n",
       "</table>\n",
       "</div>"
      ],
      "text/plain": [
       "  Period Beginning_Principle       Payment  Interest_Rate  Paid_Interest  \\\n",
       "0      1              300000  60450.749062         0.0025     750.000000   \n",
       "0      2       240299.250938  60450.749062         0.0025     600.748127   \n",
       "0      3       180449.250003  60450.749062         0.0025     451.123125   \n",
       "0      4       120449.624066  60450.749062         0.0025     301.124060   \n",
       "0      5        60299.999064  60450.749062         0.0025     150.749998   \n",
       "\n",
       "   Paid_Principal  Ending_Principle Paid_Total  \n",
       "0    59700.749062      2.402993e+05        NaN  \n",
       "0    59850.000935      1.804493e+05        NaN  \n",
       "0    59999.625937      1.204496e+05        NaN  \n",
       "0    60149.625002      6.030000e+04        NaN  \n",
       "0    60299.999064     -5.980837e-09        NaN  "
      ]
     },
     "execution_count": 93,
     "metadata": {},
     "output_type": "execute_result"
    }
   ],
   "source": [
    "principal = 300000\n",
    "n_periods = 5\n",
    "period_interest_rate = 0.03/12\n",
    "period_payment = monthly_payment(n_periods=n_periods, period_interest_rate=period_interest_rate, present_value=principal, future_value=0)\n",
    "generate_amortatized_loan(principal, n_periods, period_interest_rate, period_payment)"
   ]
  },
  {
   "cell_type": "code",
   "execution_count": 92,
   "id": "aaee8864-54ba-415b-9655-f1c999c5aa15",
   "metadata": {
    "scrolled": true
   },
   "outputs": [
    {
     "data": {
      "image/png": "[encoded data removed]",
      "text/plain": [
       "<Figure size 1000x500 with 1 Axes>"
      ]
     },
     "metadata": {},
     "output_type": "display_data"
    }
   ],
   "source": [
    "import pandas as pd\n",
    "import matplotlib.pyplot as plt\n",
    "\n",
    "# Create a sample pandas Series\n",
    "data = df['Paid_Interest'].reset_index(drop=True)\n",
    "                 # index=pd.date_range(\"2025-01-01\", periods=7))\n",
    "\n",
    "# Plot the Series\n",
    "plt.figure(figsize=(10, 5))\n",
    "plt.plot(data, marker='o', linestyle='-', color='blue', label='Value')\n",
    "\n",
    "# Add titles and labels\n",
    "plt.title(\"Sample Series Plot\")\n",
    "plt.xlabel(\"Date\")\n",
    "plt.ylabel(\"Value\")\n",
    "plt.grid(True)\n",
    "plt.legend()\n",
    "plt.tight_layout()\n",
    "plt.show()\n"
   ]
  },
  {
   "cell_type": "code",
   "execution_count": 91,
   "id": "f50794d9-a974-4b05-a364-81536cc7493f",
   "metadata": {},
   "outputs": [
    {
     "data": {
      "text/plain": [
       "0      750.000000\n",
       "1      748.712500\n",
       "2      747.421781\n",
       "3      746.127836\n",
       "4      744.830655\n",
       "          ...    \n",
       "355     15.424252\n",
       "356     12.300313\n",
       "357      9.168563\n",
       "358      6.028985\n",
       "359      2.881557\n",
       "Name: Paid_Interest, Length: 360, dtype: float64"
      ]
     },
     "execution_count": 91,
     "metadata": {},
     "output_type": "execute_result"
    }
   ],
   "source": [
    "df['Paid_Interest'].reset_index(drop=True)"
   ]
  },
  {
   "cell_type": "code",
   "execution_count": 94,
   "id": "6dcb47e0-1d4d-424e-8618-2b69c23a5a88",
   "metadata": {},
   "outputs": [
    {
     "data": {
      "text/plain": [
       "0.01818181818181818"
      ]
     },
     "execution_count": 94,
     "metadata": {},
     "output_type": "execute_result"
    }
   ],
   "source": [
    "40000/2200000"
   ]
  },
  {
   "cell_type": "code",
   "execution_count": null,
   "id": "f1b79841-e801-4187-8446-9f7d2ff0bf38",
   "metadata": {},
   "outputs": [],
   "source": []
  }
 ],
 "metadata": {
  "kernelspec": {
   "display_name": "Python 3 (ipykernel)",
   "language": "python",
   "name": "python3"
  },
  "language_info": {
   "codemirror_mode": {
    "name": "ipython",
    "version": 3
   },
   "file_extension": ".py",
   "mimetype": "text/x-python",
   "name": "python",
   "nbconvert_exporter": "python",
   "pygments_lexer": "ipython3",
   "version": "3.13.2"
  }
 },
 "nbformat": 4,
 "nbformat_minor": 5
}
